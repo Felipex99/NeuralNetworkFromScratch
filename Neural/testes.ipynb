{
 "cells": [
  {
   "cell_type": "code",
   "execution_count": 1,
   "metadata": {},
   "outputs": [
    {
     "name": "stdout",
     "output_type": "stream",
     "text": [
      "oi\n"
     ]
    }
   ],
   "source": [
    "print(\"oi\")"
   ]
  },
  {
   "cell_type": "code",
   "execution_count": 22,
   "metadata": {},
   "outputs": [
    {
     "data": {
      "text/plain": [
       "[15, 34, 53]"
      ]
     },
     "execution_count": 22,
     "metadata": {},
     "output_type": "execute_result"
    }
   ],
   "source": [
    "i = [1,2,3,4]\n",
    "ws = [\n",
    "    [1,2,3],\n",
    "    [4,5,6],\n",
    "    [7,8,9],\n",
    "]\n",
    "b = [1,2,3]\n",
    "lo = []\n",
    "for nw,nb in zip(ws, b):\n",
    "    no = 0\n",
    "    for ni, w in zip(i, nw):\n",
    "        no += ni*w\n",
    "    no += nb\n",
    "    lo.append(no)\n",
    "lo"
   ]
  },
  {
   "cell_type": "code",
   "execution_count": null,
   "metadata": {},
   "outputs": [
    {
     "name": "stdout",
     "output_type": "stream",
     "text": [
      "Alice tem 25 anos\n",
      "Bob tem 30 anos\n",
      "Charlie tem 35 anos\n"
     ]
    }
   ],
   "source": [
    "i = [1,2,3,4]\n",
    "ws = [\n",
    "    [1,2,3],\n",
    "    [4,5,6],\n",
    "    [7,8,9],\n",
    "]\n",
    "b = [1,2,3]\n",
    "lo = []\n",
    "for nw,nb in zip(ws, b):\n",
    "    no = 0\n",
    "    for ni, w in zip(i, nw):\n",
    "        no += ni*w\n",
    "    no += nb\n",
    "    lo.append(no)\n",
    "lo\n"
   ]
  }
 ],
 "metadata": {
  "kernelspec": {
   "display_name": "Python 3",
   "language": "python",
   "name": "python3"
  },
  "language_info": {
   "codemirror_mode": {
    "name": "ipython",
    "version": 3
   },
   "file_extension": ".py",
   "mimetype": "text/x-python",
   "name": "python",
   "nbconvert_exporter": "python",
   "pygments_lexer": "ipython3",
   "version": "3.12.4"
  }
 },
 "nbformat": 4,
 "nbformat_minor": 2
}
